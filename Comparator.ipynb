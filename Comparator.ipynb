{
 "cells": [
  {
   "cell_type": "markdown",
   "metadata": {},
   "source": [
    "## Introduction\n",
    "\n",
    "This Notebook was designed to provide control over- and visualise different numerical integration schemes.\n",
    "\n",
    "Namely: \n",
    "    - Fixed Timestep methods:\n",
    "        - Euler, Verlet, and Runge-Kutta 4\n",
    "    - Adaptive method:\n",
    "        - Runge-Kutta Dormand Prince 5(4)\n",
    "\n",
    "The actual work is done behind-the-scenes by the Python 3 scripts that this notebook calls (using the %run linemagic). These files must be present in the folder from where the notebook is run.\n",
    "Visualisation is done using Bokeh and matplotlib.\n",
    "\n",
    "Usage:\n",
    "    1. Run the first cell calling jupyter_init.py. Set the parameters, then\n",
    "    2. Run the cell %run -i -t comp.py. This is the actual numerical integration. -i and -t means that the program uses the namespace of the notebook (to know what the input was in the init script), and that the run is timed using the built-in timeing function.\n",
    "    3... The rest is pretty straightforward. There are short explanations before every runnable cell."
   ]
  },
  {
   "cell_type": "markdown",
   "metadata": {},
   "source": [
    "## Setup"
   ]
  },
  {
   "cell_type": "code",
   "execution_count": 1,
   "metadata": {
    "scrolled": false
   },
   "outputs": [
    {
     "name": "stdout",
     "output_type": "stream",
     "text": [
      "Please set the required parameters:\n"
     ]
    },
    {
     "data": {
      "application/vnd.jupyter.widget-view+json": {
       "model_id": "a5c8f41c644c497aa1c269d82f8e6cfb",
       "version_major": 2,
       "version_minor": 0
      },
      "text/html": [
       "<p>Failed to display Jupyter Widget of type <code>interactive</code>.</p>\n",
       "<p>\n",
       "  If you're reading this message in the Jupyter Notebook or JupyterLab Notebook, it may mean\n",
       "  that the widgets JavaScript is still loading. If this message persists, it\n",
       "  likely means that the widgets JavaScript library is either not installed or\n",
       "  not enabled. See the <a href=\"https://ipywidgets.readthedocs.io/en/stable/user_install.html\">Jupyter\n",
       "  Widgets Documentation</a> for setup instructions.\n",
       "</p>\n",
       "<p>\n",
       "  If you're reading this message in another frontend (for example, a static\n",
       "  rendering on GitHub or <a href=\"https://nbviewer.jupyter.org/\">NBViewer</a>),\n",
       "  it may mean that your frontend doesn't currently support widgets.\n",
       "</p>\n"
      ],
      "text/plain": [
       "interactive(children=(ToggleButtons(description='1.) Integrator:', index=4, layout=Layout(flex_flow='column'), options=('Euler', 'Verlet', 'RK4', 'RKDP', 'All'), tooltips=['A simple forward Euler integrator', 'Velocity Verlet, a symplectic integrator', 'Fixed-timestep Runge-Kutta 4', 'Adaptive Runge-Kutta Dormand-Prince integrator', 'Run all integrators successively'], value='All'), Output()), _dom_classes=('widget-interact',))"
      ]
     },
     "metadata": {},
     "output_type": "display_data"
    },
    {
     "data": {
      "application/vnd.jupyter.widget-view+json": {
       "model_id": "ec14304daaef4e2e99e99480d47f6921",
       "version_major": 2,
       "version_minor": 0
      },
      "text/html": [
       "<p>Failed to display Jupyter Widget of type <code>interactive</code>.</p>\n",
       "<p>\n",
       "  If you're reading this message in the Jupyter Notebook or JupyterLab Notebook, it may mean\n",
       "  that the widgets JavaScript is still loading. If this message persists, it\n",
       "  likely means that the widgets JavaScript library is either not installed or\n",
       "  not enabled. See the <a href=\"https://ipywidgets.readthedocs.io/en/stable/user_install.html\">Jupyter\n",
       "  Widgets Documentation</a> for setup instructions.\n",
       "</p>\n",
       "<p>\n",
       "  If you're reading this message in another frontend (for example, a static\n",
       "  rendering on GitHub or <a href=\"https://nbviewer.jupyter.org/\">NBViewer</a>),\n",
       "  it may mean that your frontend doesn't currently support widgets.\n",
       "</p>\n"
      ],
      "text/plain": [
       "interactive(children=(BoundedIntText(value=36524, description='2.) Total integration time [days]:', max=1000000, min=10, style=DescriptionStyle(description_width='initial')), Output()), _dom_classes=('widget-interact',))"
      ]
     },
     "metadata": {},
     "output_type": "display_data"
    },
    {
     "data": {
      "application/vnd.jupyter.widget-view+json": {
       "model_id": "b3e45104144747339bc4bf335a843863",
       "version_major": 2,
       "version_minor": 0
      },
      "text/html": [
       "<p>Failed to display Jupyter Widget of type <code>interactive</code>.</p>\n",
       "<p>\n",
       "  If you're reading this message in the Jupyter Notebook or JupyterLab Notebook, it may mean\n",
       "  that the widgets JavaScript is still loading. If this message persists, it\n",
       "  likely means that the widgets JavaScript library is either not installed or\n",
       "  not enabled. See the <a href=\"https://ipywidgets.readthedocs.io/en/stable/user_install.html\">Jupyter\n",
       "  Widgets Documentation</a> for setup instructions.\n",
       "</p>\n",
       "<p>\n",
       "  If you're reading this message in another frontend (for example, a static\n",
       "  rendering on GitHub or <a href=\"https://nbviewer.jupyter.org/\">NBViewer</a>),\n",
       "  it may mean that your frontend doesn't currently support widgets.\n",
       "</p>\n"
      ],
      "text/plain": [
       "interactive(children=(IntRangeSlider(value=(8, 10), continuous_update=False, description='3.) TimeStep range:', max=20, min=1, style=SliderStyle(description_width='initial')), Output()), _dom_classes=('widget-interact',))"
      ]
     },
     "metadata": {},
     "output_type": "display_data"
    },
    {
     "data": {
      "application/vnd.jupyter.widget-view+json": {
       "model_id": "0ffaddac13454534bfb33a672fdc762a",
       "version_major": 2,
       "version_minor": 0
      },
      "text/html": [
       "<p>Failed to display Jupyter Widget of type <code>interactive</code>.</p>\n",
       "<p>\n",
       "  If you're reading this message in the Jupyter Notebook or JupyterLab Notebook, it may mean\n",
       "  that the widgets JavaScript is still loading. If this message persists, it\n",
       "  likely means that the widgets JavaScript library is either not installed or\n",
       "  not enabled. See the <a href=\"https://ipywidgets.readthedocs.io/en/stable/user_install.html\">Jupyter\n",
       "  Widgets Documentation</a> for setup instructions.\n",
       "</p>\n",
       "<p>\n",
       "  If you're reading this message in another frontend (for example, a static\n",
       "  rendering on GitHub or <a href=\"https://nbviewer.jupyter.org/\">NBViewer</a>),\n",
       "  it may mean that your frontend doesn't currently support widgets.\n",
       "</p>\n"
      ],
      "text/plain": [
       "interactive(children=(IntRangeSlider(value=(5, 7), continuous_update=False, description='4.) RKDP tolerance: 1.0E-', max=10, min=4, style=SliderStyle(description_width='initial')), Output()), _dom_classes=('widget-interact',))"
      ]
     },
     "metadata": {},
     "output_type": "display_data"
    },
    {
     "data": {
      "application/vnd.jupyter.widget-view+json": {
       "model_id": "1dd2e0fdea53415688433774ab252e7f",
       "version_major": 2,
       "version_minor": 0
      },
      "text/html": [
       "<p>Failed to display Jupyter Widget of type <code>interactive</code>.</p>\n",
       "<p>\n",
       "  If you're reading this message in the Jupyter Notebook or JupyterLab Notebook, it may mean\n",
       "  that the widgets JavaScript is still loading. If this message persists, it\n",
       "  likely means that the widgets JavaScript library is either not installed or\n",
       "  not enabled. See the <a href=\"https://ipywidgets.readthedocs.io/en/stable/user_install.html\">Jupyter\n",
       "  Widgets Documentation</a> for setup instructions.\n",
       "</p>\n",
       "<p>\n",
       "  If you're reading this message in another frontend (for example, a static\n",
       "  rendering on GitHub or <a href=\"https://nbviewer.jupyter.org/\">NBViewer</a>),\n",
       "  it may mean that your frontend doesn't currently support widgets.\n",
       "</p>\n"
      ],
      "text/plain": [
       "interactive(children=(Checkbox(value=False, description='Include inner planets'), Output()), _dom_classes=('widget-interact',))"
      ]
     },
     "metadata": {},
     "output_type": "display_data"
    }
   ],
   "source": [
    "%run ./src/jupyter_init.py"
   ]
  },
  {
   "cell_type": "markdown",
   "metadata": {},
   "source": [
    "## Integration"
   ]
  },
  {
   "cell_type": "code",
   "execution_count": 8,
   "metadata": {
    "scrolled": false
   },
   "outputs": [
    {
     "name": "stdout",
     "output_type": "stream",
     "text": [
      "Do you want to clear library of previous logs? [y/n]: n\n",
      "Leaving previous logs intact.\n",
      "\n",
      "Number of objects: 6 \n",
      "Total time [days]: 36524 \n",
      "TimeStep range: 18 - 20 \n",
      "Tolerance range: 1.0E-5 - 1.0E-7 \n",
      "\n",
      "Euler integration...\n",
      "18 days timestep:\t1.1085 seconds.\n",
      "\n",
      "19 days timestep:\t1.0463 seconds.\n",
      "\n",
      "20 days timestep:\t1.0036 seconds.\n",
      "\n",
      "Whole program took 3.18 seconds.\n",
      "\n",
      "IPython CPU timings (estimated):\n",
      "  User   :       4.23 s.\n",
      "  System :       0.00 s.\n",
      "Wall time:       4.22 s.\n"
     ]
    }
   ],
   "source": [
    "%run -i -t ./src/comp.py"
   ]
  },
  {
   "cell_type": "markdown",
   "metadata": {},
   "source": [
    "## Results\n",
    "#### Orbits for 67P/Churyumov–Gerasimenko\n",
    "All runs displayed on a figure, then individual results are shown in separate tabs for each method. JPL Horizons data is displayed as a solid line for 67P/C-G, and as a dashed line for Jupiter. The circles only show the results for 67P/C-G.\n",
    "\n",
    "Click on the names in the Legend to show/hide gliphs."
   ]
  },
  {
   "cell_type": "code",
   "execution_count": null,
   "metadata": {},
   "outputs": [],
   "source": [
    "%run -i ./src/bokehorbits.py"
   ]
  },
  {
   "cell_type": "markdown",
   "metadata": {},
   "source": [
    "#### CPU Time comparisons"
   ]
  },
  {
   "cell_type": "code",
   "execution_count": null,
   "metadata": {},
   "outputs": [],
   "source": [
    "%run ./src/bokehCPU.py"
   ]
  },
  {
   "cell_type": "markdown",
   "metadata": {},
   "source": [
    "### Runge-Kutta Dormand-Prince\n",
    "A closer look at the adaptive method.\n",
    "\n",
    "#### Errors and time steps\n",
    "Visualising the difference between the fifth and fourth order terms. Also showing the corresponding timestep size.\n",
    "\n",
    "During its operation, the RKDP method looks at the relative error of every variable in the differential equations at every attempted step: if the scaled error is above 1, the step is re-tried. The following plot shows the errors of every variable, so that the worst-offenders can be observed.\n",
    "\n",
    "Note the spike in errors, and the corresponding drop in step-size near the close-approach around the ~21500 day mark."
   ]
  },
  {
   "cell_type": "code",
   "execution_count": null,
   "metadata": {
    "scrolled": false
   },
   "outputs": [],
   "source": [
    "%run ./src/bokehRKDP.py"
   ]
  },
  {
   "cell_type": "markdown",
   "metadata": {},
   "source": [
    "#### Animation\n",
    "##### (Useful without the inner planets)\n",
    "\n",
    "An animation showing the movement of Jupiter(red) and 67P/C-G(blue) around the Sun(yellow), calculated with the medium tolerance RKDP method.\n",
    "\n",
    "Two smaller dots show the location at previous steps, allowing visual observation of the change in StepSize.\n",
    "\n",
    "Note the close-approach around the ~21500 day mark, and how it affects the StepSize."
   ]
  },
  {
   "cell_type": "code",
   "execution_count": null,
   "metadata": {
    "scrolled": false
   },
   "outputs": [],
   "source": [
    "%matplotlib notebook\n",
    "%run -i ./src/visual.py\n",
    "\n",
    "anim = animation.FuncAnimation(fig1, animate, frames = framz, interval = 100, init_func = init, blit= True)\n",
    "fig1.show()\n"
   ]
  }
 ],
 "metadata": {
  "kernelspec": {
   "display_name": "Python 3",
   "language": "python",
   "name": "python3"
  },
  "language_info": {
   "codemirror_mode": {
    "name": "ipython",
    "version": 3
   },
   "file_extension": ".py",
   "mimetype": "text/x-python",
   "name": "python",
   "nbconvert_exporter": "python",
   "pygments_lexer": "ipython3",
   "version": "3.6.3"
  }
 },
 "nbformat": 4,
 "nbformat_minor": 2
}
