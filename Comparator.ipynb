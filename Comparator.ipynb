{
 "cells": [
  {
   "cell_type": "markdown",
   "metadata": {},
   "source": [
    "## Introduction\n",
    "\n",
    "This Notebook was designed to provide control over- and visualise different numerical integration schemes.\n",
    "\n",
    "Namely: \n",
    "    - Fixed Timestep methods:\n",
    "        - Euler, Verlet, and Runge-Kutta 4\n",
    "    - Adaptive method:\n",
    "        - Runge-Kutta Dormand Prince 5(4)\n",
    "\n",
    "The actual work is done behind-the-scenes by the Python 3 scripts that this notebook calls (using the %run linemagic). These files must be present.\n",
    "Visualisation is done using Bokeh and matplotlib.\n",
    "\n",
    "Usage:\n",
    "    1. Run the first cell calling jupyter_init.py. Set the parameters, then\n",
    "    2. Run the cell %run -i -t ./src/comp.py. This is the actual numerical integration.\n",
    "    3... The rest is pretty straightforward. There are short explanations before every runnable cell."
   ]
  },
  {
   "cell_type": "markdown",
   "metadata": {},
   "source": [
    "## Setup"
   ]
  },
  {
   "cell_type": "code",
   "execution_count": null,
   "metadata": {
    "scrolled": false
   },
   "outputs": [],
   "source": [
    "%run ./src/jupyter_init.py"
   ]
  },
  {
   "cell_type": "markdown",
   "metadata": {},
   "source": [
    "## Integration"
   ]
  },
  {
   "cell_type": "code",
   "execution_count": null,
   "metadata": {
    "scrolled": false
   },
   "outputs": [],
   "source": [
    "%run -i -t ./src/comp.py"
   ]
  },
  {
   "cell_type": "markdown",
   "metadata": {},
   "source": [
    "## Results\n",
    "#### Orbits\n",
    "All runs displayed on a figure, then individual results are shown in separate tabs for each method. \n",
    "\n",
    "JPL Horizons data is queried by the given stepsizes, then displayed as a solid line for 67P/C-G, and as a dashed line for Jupiter.\n",
    "\n",
    "If it was included, the coloured circles only show the results for 67P/C-G, if not, for Jupiter.\n",
    "\n",
    "Click on the names in the Legend to show/hide that method's gliphs."
   ]
  },
  {
   "cell_type": "code",
   "execution_count": null,
   "metadata": {},
   "outputs": [],
   "source": [
    "%run -i ./src/bokehorbits.py"
   ]
  },
  {
   "cell_type": "markdown",
   "metadata": {},
   "source": [
    "#### CPU Time comparisons\n",
    "Five tabs showing different aspects of the run:\n",
    "- CPU times of all methods\n",
    "- CPU times of fixed timestep methods\n",
    "- Change in Total Energy of the system, percentage wise (compared to initial value)\n",
    "- Same as the previous, but compared to the previous step's value\n",
    "- The slope of the linear regression of each method's Energy change is plotted against CPU time"
   ]
  },
  {
   "cell_type": "code",
   "execution_count": null,
   "metadata": {
    "scrolled": false
   },
   "outputs": [],
   "source": [
    "%run -i ./src/bokehCPU.py"
   ]
  },
  {
   "cell_type": "markdown",
   "metadata": {},
   "source": [
    "### Runge-Kutta Dormand-Prince\n",
    "A closer look at the adaptive method.\n",
    "\n",
    "#### Errors and time steps\n",
    "Visualising the difference between the fifth and fourth order terms. Also showing the corresponding timestep size.\n",
    "\n",
    "During its operation, the RKDP method looks at the relative error of every variable in the differential equations at every attempted step: if the scaled error is above 1, the step is re-tried. The following plot shows the errors of every variable, so that the worst-offenders can be observed.\n",
    "\n",
    "Note the spike in errors, and the corresponding drop in step-size near the close-approach around the ~21500 day mark."
   ]
  },
  {
   "cell_type": "code",
   "execution_count": null,
   "metadata": {
    "scrolled": false
   },
   "outputs": [],
   "source": [
    "%run ./src/bokehRKDP.py"
   ]
  },
  {
   "cell_type": "markdown",
   "metadata": {},
   "source": [
    "#### Animation\n",
    "##### (Useful without the inner planets)\n",
    "\n",
    "An animation showing the movement of Jupiter(red) and 67P/C-G(blue) around the Sun(yellow), calculated with the low tolerance RKDP method.\n",
    "\n",
    "Two smaller dots show the location at previous steps, allowing visual observation of the change in StepSize.\n",
    "\n",
    "Note the close-approach around the ~21500 day mark, and how it affects the StepSize."
   ]
  },
  {
   "cell_type": "code",
   "execution_count": null,
   "metadata": {
    "scrolled": false
   },
   "outputs": [],
   "source": [
    "%matplotlib notebook\n",
    "%run -i ./src/visual.py\n",
    "\n",
    "anim = animation.FuncAnimation(fig1, animate, frames = framz, interval = 100, init_func = init, blit= True)\n",
    "fig1.show()\n"
   ]
  }
 ],
 "metadata": {
  "kernelspec": {
   "display_name": "Python 3",
   "language": "python",
   "name": "python3"
  },
  "language_info": {
   "codemirror_mode": {
    "name": "ipython",
    "version": 3
   },
   "file_extension": ".py",
   "mimetype": "text/x-python",
   "name": "python",
   "nbconvert_exporter": "python",
   "pygments_lexer": "ipython3",
   "version": "3.6.3"
  }
 },
 "nbformat": 4,
 "nbformat_minor": 2
}
